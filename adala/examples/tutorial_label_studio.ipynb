{
 "cells": [
  {
   "cell_type": "code",
   "execution_count": 1,
   "id": "a6304584",
   "metadata": {},
   "outputs": [],
   "source": [
    "import adala"
   ]
  },
  {
   "cell_type": "markdown",
   "id": "1c323985",
   "metadata": {},
   "source": [
    "# Create agent\n"
   ]
  },
  {
   "cell_type": "code",
   "execution_count": 2,
   "id": "9671c9fb",
   "metadata": {},
   "outputs": [
    {
     "name": "stdout",
     "output_type": "stream",
     "text": [
      "\n",
      "Hi, I am a single shot agent.\n",
      "I can use a single skill to process a dataset.\n",
      "For example, you can instruct me to label your dataset.\n",
      "\n",
      "I have no skills yet. To begin, you need to teach me a skill.\n",
      "For example, try:\n",
      "\n",
      "agent.skill = adala.LabelingSkill(labels=['positive', 'negative'])\n"
     ]
    }
   ],
   "source": [
    "agent = adala.SingleShotAgent()\n",
    "agent.greet()"
   ]
  },
  {
   "cell_type": "markdown",
   "id": "b9e30e27",
   "metadata": {},
   "source": [
    "# Add skill"
   ]
  },
  {
   "cell_type": "code",
   "execution_count": 3,
   "id": "72bd02ea",
   "metadata": {},
   "outputs": [],
   "source": [
    "agent.skill = adala.LabelingSkill(labels=['Subjective', 'Objective'])"
   ]
  },
  {
   "cell_type": "markdown",
   "id": "f9dbf9ef",
   "metadata": {},
   "source": [
    "# Run agent"
   ]
  },
  {
   "cell_type": "code",
   "execution_count": 4,
   "id": "64757b1a",
   "metadata": {},
   "outputs": [
    {
     "name": "stdout",
     "output_type": "stream",
     "text": [
      "{'dataset': {}, 'predictions': Empty DataFrame\n",
      "Columns: []\n",
      "Index: [], 'evaluations': None, 'errors': None, 'accuracy': None, 'initial_instructions': None, 'updated_instructions': None}\n"
     ]
    }
   ],
   "source": [
    "result = agent.run()\n",
    "print(result.experience.model_dump())"
   ]
  },
  {
   "cell_type": "markdown",
   "id": "a1f6feac",
   "metadata": {},
   "source": [
    "As you can notice, agent's experience is empty, since no dataset specified. Let's connect agent to a dataset produced by Label Studio:"
   ]
  },
  {
   "cell_type": "code",
   "execution_count": 7,
   "id": "08d5b422",
   "metadata": {},
   "outputs": [],
   "source": [
    "agent.dataset = adala.LabelStudioDataset(\n",
    "    label_studio_url='http://localhost:8080',\n",
    "    label_studio_api_key='681842051079710a6b0ebce5ec56f746e3400c98',\n",
    "    label_studio_project_id=218\n",
    ")\n",
    "# agent.dataset.info()"
   ]
  },
  {
   "cell_type": "markdown",
   "id": "62b063a6",
   "metadata": {},
   "source": [
    "Now agent can evoke predictions from the real dataset:"
   ]
  },
  {
   "cell_type": "code",
   "execution_count": 8,
   "id": "44b2176c",
   "metadata": {
    "scrolled": false
   },
   "outputs": [
    {
     "name": "stderr",
     "output_type": "stream",
     "text": [
      "100%|█████████████████████████████████████████████| 20/20 [00:00<00:00, 70.43it/s]\n",
      "100%|█████████████████████████████████████████████| 20/20 [00:00<00:00, 68.86it/s]\n",
      "100%|█████████████████████████████████████████████| 20/20 [00:00<00:00, 62.72it/s]\n",
      "100%|███████████████████████████████████████████████| 5/5 [00:00<00:00, 71.64it/s]"
     ]
    },
    {
     "name": "stdout",
     "output_type": "stream",
     "text": [
      "       predictions                                              score\n",
      "407783  Subjective  {'Subjective': -0.28115004, 'Objective': -1.40...\n",
      "407784  Subjective  {'Subjective': -0.6623852999999998, 'Objective...\n",
      "407785  Subjective  {'Subjective': -0.08893942999999996, 'Objectiv...\n",
      "407786  Subjective  {'Subjective': -0.08893942999999996, 'Objectiv...\n",
      "407787  Subjective  {'Subjective': -0.5759392999999999, 'Objective...\n",
      "...            ...                                                ...\n",
      "407843  Subjective  {'Subjective': -0.006715368000000036, 'Objecti...\n",
      "407844  Subjective  {'Subjective': -0.058320418000000006, 'Objecti...\n",
      "407845  Subjective  {'Subjective': -0.12692796000000006, 'Objectiv...\n",
      "407846   Objective  {'Subjective': -0.75759894, 'Objective': -0.63...\n",
      "407847  Subjective  {'Subjective': -0.09441284999999998, 'Objectiv...\n",
      "\n",
      "[65 rows x 2 columns]\n"
     ]
    },
    {
     "name": "stderr",
     "output_type": "stream",
     "text": [
      "\n"
     ]
    }
   ],
   "source": [
    "result_2 = agent.run()\n",
    "print(result_2.experience.predictions)"
   ]
  },
  {
   "cell_type": "markdown",
   "id": "f686d7c0",
   "metadata": {},
   "source": [
    "# Learning from experience\n",
    "If ground truth information is presented in the dataset, agent can learn and improve."
   ]
  },
  {
   "cell_type": "code",
   "execution_count": 9,
   "id": "97da6ac9",
   "metadata": {},
   "outputs": [
    {
     "name": "stderr",
     "output_type": "stream",
     "text": [
      "100%|█████████████████████████████████████████████| 20/20 [00:00<00:00, 75.08it/s]\n",
      "100%|█████████████████████████████████████████████| 20/20 [00:00<00:00, 63.49it/s]\n",
      "100%|█████████████████████████████████████████████| 20/20 [00:00<00:00, 73.56it/s]\n",
      "100%|███████████████████████████████████████████████| 5/5 [00:00<00:00, 40.25it/s]\n"
     ]
    },
    {
     "name": "stdout",
     "output_type": "stream",
     "text": [
      "Evaluating, analyzing and improving...\n",
      "Done!\n"
     ]
    }
   ],
   "source": [
    "learn_result = agent.learn()"
   ]
  },
  {
   "cell_type": "markdown",
   "id": "6740c7a8",
   "metadata": {},
   "source": [
    "For example, now it can use the updated instructions finetuned on the ground truth data:"
   ]
  },
  {
   "cell_type": "code",
   "execution_count": 10,
   "id": "6613b540",
   "metadata": {},
   "outputs": [
    {
     "name": "stdout",
     "output_type": "stream",
     "text": [
      "\n",
      "Initial instructrions:\n",
      "Label the input text with the following labels: {{labels}}\n",
      "\n",
      "Updated instructions:\n",
      "Please categorize the input text based on its objectivity or subjectivity according to the following criteria: \n",
      "- Label as \"Subjective\" if the text represents personal opinions, feelings, or thoughts.\n",
      "- Label as \"Objective\" if the text provides factual information, detailed description, or mentions specific features without expressing personal opinions, feelings, or sentiments.\n",
      "\n",
      "Examples:\n",
      "\n",
      "Input: {\"index\":76,\"text\":\"Because both ears are occupied, background is not distracting at all.\",\"label\":\"Positive\",\"score\":{\"Subjective\":-0.6623853,\"Objective\":-0.7248853},\"predictions_match\":false}\n",
      "Output: Objective\n",
      "\n",
      "Input: {\"index\":69,\"text\":\"Battery is holding up well.\",\"label\":\"Positive\",\"score\":{\"Subjective\":-0.6623853,\"Objective\":-0.7248853},\"predictions_match\":false}\n",
      "Output: Objective\n",
      "\n",
      "Input: {\"index\":48,\"text\":\"Any ring tone..Overall good phone to buy..\",\"label\":\"Positive\",\"score\":{\"Subjective\":-0.08893943,\"Objective\":-2.4639394},\"predictions_match\":false}\n",
      "Output: Objective\n",
      "\n",
      "Current accuracy: 0.4307692307692308\n"
     ]
    }
   ],
   "source": [
    "print(f'''\n",
    "Initial instructrions:\n",
    "{learn_result.experience.initial_instructions}\n",
    "\n",
    "Updated instructions:\n",
    "{learn_result.experience.updated_instructions}\n",
    "''')\n",
    "\n",
    "print(f'Current accuracy: {learn_result.experience.accuracy}')"
   ]
  }
 ],
 "metadata": {
  "kernelspec": {
   "display_name": "Python 3 (ipykernel)",
   "language": "python",
   "name": "python3"
  },
  "language_info": {
   "codemirror_mode": {
    "name": "ipython",
    "version": 3
   },
   "file_extension": ".py",
   "mimetype": "text/x-python",
   "name": "python",
   "nbconvert_exporter": "python",
   "pygments_lexer": "ipython3",
   "version": "3.11.4"
  }
 },
 "nbformat": 4,
 "nbformat_minor": 5
}

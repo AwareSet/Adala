{
 "cells": [
  {
   "cell_type": "markdown",
   "id": "ba6426ec",
   "metadata": {},
   "source": [
    "# Automated data labeling\n",
    "\n",
    "Let's create an agent that can label data in any pandas dataframe and continually improve its labeling instructions."
   ]
  },
  {
   "cell_type": "code",
   "execution_count": 1,
   "id": "0a414bf2",
   "metadata": {},
   "outputs": [],
   "source": [
    "import pandas as pd\n",
    "\n",
    "from adala.agents import SingleShotAgent\n",
    "from adala.datasets import DataFrameDataset\n",
    "from adala.skills import LabelingSkill\n",
    "from adala.runtimes import LLMRuntime, LLMRuntimeModelType\n",
    "\n",
    "filepath = 'https://hs-sandbox-pub.s3.amazonaws.com/amazon_cells_labelled.tsv'\n",
    "df = pd.read_csv(filepath, sep='\\t', nrows=100)\n",
    "\n",
    "agent = SingleShotAgent(\n",
    "    \n",
    "    # connect to a dataset\n",
    "    dataset=DataFrameDataset(\n",
    "        df=df,\n",
    "        ground_truth_column='ground_truth'\n",
    "    ),\n",
    "    \n",
    "    # define the labeling skill\n",
    "    skill=LabelingSkill(\n",
    "        name='subjectivity_detection',\n",
    "        description='Understanding subjective and objective statements from text.',\n",
    "        instructions='Classify a product review as either expressing \"Subjective\" or \"Objective\" statements.',\n",
    "        labels=['Subjective', 'Objective']\n",
    "    ),\n",
    "    \n",
    "    # list all available runtimes\n",
    "    runtimes={\n",
    "        'openai': LLMRuntime(\n",
    "            llm_runtime_type=LLMRuntimeModelType.OpenAI,\n",
    "            llm_params={\n",
    "                'model': 'gpt-3.5-turbo-instruct',\n",
    "            }\n",
    "        ),\n",
    "        'openai-gpt4': LLMRuntime(\n",
    "            llm_runtime_type=LLMRuntimeModelType.OpenAI,\n",
    "            llm_params={\n",
    "                'model': 'gpt-4',\n",
    "            }\n",
    "        ),\n",
    "#         'llama2': LLMRuntime(\n",
    "#             llm_runtime_type=LLMRuntimeModelType.Transformers,\n",
    "#             llm_params={\n",
    "#                 'model': 'meta-llama/Llama-2-7b',\n",
    "#                 'device': 'cuda:0',\n",
    "#             }\n",
    "#         )\n",
    "    },\n",
    "    \n",
    "    # use default runtime for the labeling skill\n",
    "    default_runtime='openai'\n",
    ")"
   ]
  },
  {
   "cell_type": "markdown",
   "id": "b3543b1a",
   "metadata": {},
   "source": [
    "Now we can run agent to retrieve predictions:"
   ]
  },
  {
   "cell_type": "code",
   "execution_count": 2,
   "id": "295db168",
   "metadata": {},
   "outputs": [
    {
     "name": "stderr",
     "output_type": "stream",
     "text": [
      "100%|█████████████████████████████████████████████| 20/20 [00:00<00:00, 70.28it/s]\n",
      "100%|█████████████████████████████████████████████| 20/20 [00:00<00:00, 78.73it/s]\n",
      "100%|█████████████████████████████████████████████| 20/20 [00:00<00:00, 60.30it/s]\n",
      "100%|█████████████████████████████████████████████| 20/20 [00:00<00:00, 77.35it/s]\n",
      "100%|█████████████████████████████████████████████| 20/20 [00:00<00:00, 76.97it/s]\n"
     ]
    }
   ],
   "source": [
    "run_result = agent.run()"
   ]
  },
  {
   "cell_type": "code",
   "execution_count": 3,
   "id": "8ea3b3e7",
   "metadata": {},
   "outputs": [
    {
     "data": {
      "text/html": [
       "<div>\n",
       "<style scoped>\n",
       "    .dataframe tbody tr th:only-of-type {\n",
       "        vertical-align: middle;\n",
       "    }\n",
       "\n",
       "    .dataframe tbody tr th {\n",
       "        vertical-align: top;\n",
       "    }\n",
       "\n",
       "    .dataframe thead th {\n",
       "        text-align: right;\n",
       "    }\n",
       "</style>\n",
       "<table border=\"1\" class=\"dataframe\">\n",
       "  <thead>\n",
       "    <tr style=\"text-align: right;\">\n",
       "      <th></th>\n",
       "      <th>text</th>\n",
       "      <th>label</th>\n",
       "      <th>ground_truth</th>\n",
       "      <th>predictions</th>\n",
       "      <th>score</th>\n",
       "    </tr>\n",
       "  </thead>\n",
       "  <tbody>\n",
       "    <tr>\n",
       "      <th>0</th>\n",
       "      <td>So there is no way for me to plug it in here i...</td>\n",
       "      <td>0</td>\n",
       "      <td>NaN</td>\n",
       "      <td>Objective</td>\n",
       "      <td>{'Subjective': -2.6367831, 'Objective': -0.074...</td>\n",
       "    </tr>\n",
       "    <tr>\n",
       "      <th>1</th>\n",
       "      <td>Good case, Excellent value.</td>\n",
       "      <td>1</td>\n",
       "      <td>NaN</td>\n",
       "      <td>Subjective</td>\n",
       "      <td>{'Subjective': -0.6931471, 'Objective': -0.693...</td>\n",
       "    </tr>\n",
       "    <tr>\n",
       "      <th>2</th>\n",
       "      <td>Great for the jawbone.</td>\n",
       "      <td>1</td>\n",
       "      <td>NaN</td>\n",
       "      <td>Objective</td>\n",
       "      <td>{'Subjective': -0.9740768699999999, 'Objective...</td>\n",
       "    </tr>\n",
       "    <tr>\n",
       "      <th>3</th>\n",
       "      <td>Tied to charger for conversations lasting more...</td>\n",
       "      <td>0</td>\n",
       "      <td>NaN</td>\n",
       "      <td>Subjective</td>\n",
       "      <td>{'Subjective': -0.40735099999999996, 'Objectiv...</td>\n",
       "    </tr>\n",
       "    <tr>\n",
       "      <th>4</th>\n",
       "      <td>The mic is great.</td>\n",
       "      <td>1</td>\n",
       "      <td>NaN</td>\n",
       "      <td>Subjective</td>\n",
       "      <td>{'Subjective': -0.04570976299999997, 'Objectiv...</td>\n",
       "    </tr>\n",
       "    <tr>\n",
       "      <th>...</th>\n",
       "      <td>...</td>\n",
       "      <td>...</td>\n",
       "      <td>...</td>\n",
       "      <td>...</td>\n",
       "      <td>...</td>\n",
       "    </tr>\n",
       "    <tr>\n",
       "      <th>95</th>\n",
       "      <td>Will order from them again!</td>\n",
       "      <td>1</td>\n",
       "      <td>NaN</td>\n",
       "      <td>Subjective</td>\n",
       "      <td>{'Subjective': -0.31326162999999996, 'Objectiv...</td>\n",
       "    </tr>\n",
       "    <tr>\n",
       "      <th>96</th>\n",
       "      <td>If you plan to use this in a car forget about it.</td>\n",
       "      <td>0</td>\n",
       "      <td>NaN</td>\n",
       "      <td>Objective</td>\n",
       "      <td>{'Subjective': -0.75759894, 'Objective': -0.63...</td>\n",
       "    </tr>\n",
       "    <tr>\n",
       "      <th>97</th>\n",
       "      <td>I found this product to be waaay too big.</td>\n",
       "      <td>0</td>\n",
       "      <td>NaN</td>\n",
       "      <td>Subjective</td>\n",
       "      <td>{'Subjective': -0.01930922600000004, 'Objectiv...</td>\n",
       "    </tr>\n",
       "    <tr>\n",
       "      <th>98</th>\n",
       "      <td>Best I've found so far .... I've tried 2 other...</td>\n",
       "      <td>1</td>\n",
       "      <td>NaN</td>\n",
       "      <td>Subjective</td>\n",
       "      <td>{'Subjective': -0.07888966999999994, 'Objectiv...</td>\n",
       "    </tr>\n",
       "    <tr>\n",
       "      <th>99</th>\n",
       "      <td>I'm very disappointed with my decision.</td>\n",
       "      <td>0</td>\n",
       "      <td>NaN</td>\n",
       "      <td>Subjective</td>\n",
       "      <td>{'Subjective': -0.02324539799999996, 'Objectiv...</td>\n",
       "    </tr>\n",
       "  </tbody>\n",
       "</table>\n",
       "<p>100 rows × 5 columns</p>\n",
       "</div>"
      ],
      "text/plain": [
       "                                                 text  label  ground_truth  \\\n",
       "0   So there is no way for me to plug it in here i...      0           NaN   \n",
       "1                         Good case, Excellent value.      1           NaN   \n",
       "2                              Great for the jawbone.      1           NaN   \n",
       "3   Tied to charger for conversations lasting more...      0           NaN   \n",
       "4                                   The mic is great.      1           NaN   \n",
       "..                                                ...    ...           ...   \n",
       "95                        Will order from them again!      1           NaN   \n",
       "96  If you plan to use this in a car forget about it.      0           NaN   \n",
       "97          I found this product to be waaay too big.      0           NaN   \n",
       "98  Best I've found so far .... I've tried 2 other...      1           NaN   \n",
       "99            I'm very disappointed with my decision.      0           NaN   \n",
       "\n",
       "   predictions                                              score  \n",
       "0    Objective  {'Subjective': -2.6367831, 'Objective': -0.074...  \n",
       "1   Subjective  {'Subjective': -0.6931471, 'Objective': -0.693...  \n",
       "2    Objective  {'Subjective': -0.9740768699999999, 'Objective...  \n",
       "3   Subjective  {'Subjective': -0.40735099999999996, 'Objectiv...  \n",
       "4   Subjective  {'Subjective': -0.04570976299999997, 'Objectiv...  \n",
       "..         ...                                                ...  \n",
       "95  Subjective  {'Subjective': -0.31326162999999996, 'Objectiv...  \n",
       "96   Objective  {'Subjective': -0.75759894, 'Objective': -0.63...  \n",
       "97  Subjective  {'Subjective': -0.01930922600000004, 'Objectiv...  \n",
       "98  Subjective  {'Subjective': -0.07888966999999994, 'Objectiv...  \n",
       "99  Subjective  {'Subjective': -0.02324539799999996, 'Objectiv...  \n",
       "\n",
       "[100 rows x 5 columns]"
      ]
     },
     "execution_count": 3,
     "metadata": {},
     "output_type": "execute_result"
    }
   ],
   "source": [
    "pd.concat((df, run_result.experience.predictions), axis=1)"
   ]
  },
  {
   "cell_type": "markdown",
   "id": "0a266121",
   "metadata": {},
   "source": [
    "Now we can create a couple of ground truth samples to improve agent's skill:"
   ]
  },
  {
   "cell_type": "code",
   "execution_count": 4,
   "id": "17bc94c6",
   "metadata": {},
   "outputs": [],
   "source": [
    "df.loc[0, 'ground_truth'] = 'Objective'\n",
    "df.loc[1, 'ground_truth'] = 'Subjective'\n",
    "df.loc[3, 'ground_truth'] = 'Objective'\n",
    "df.loc[4, 'ground_truth'] = 'Subjective'"
   ]
  },
  {
   "cell_type": "markdown",
   "id": "042c5f7a",
   "metadata": {},
   "source": [
    "Now ensure our agent learns from the inputs we've provided, by running a few iterations:"
   ]
  },
  {
   "cell_type": "code",
   "execution_count": 6,
   "id": "45d8afdb",
   "metadata": {},
   "outputs": [
    {
     "name": "stdout",
     "output_type": "stream",
     "text": [
      "Iteration #0\n"
     ]
    },
    {
     "name": "stderr",
     "output_type": "stream",
     "text": [
      "100%|█████████████████████████████████████████████| 20/20 [00:00<00:00, 70.02it/s]\n",
      "100%|█████████████████████████████████████████████| 20/20 [00:00<00:00, 77.15it/s]\n",
      "100%|█████████████████████████████████████████████| 20/20 [00:00<00:00, 78.73it/s]\n",
      "100%|█████████████████████████████████████████████| 20/20 [00:00<00:00, 77.72it/s]\n",
      "100%|█████████████████████████████████████████████| 20/20 [00:00<00:00, 63.22it/s]\n",
      "100%|█████████████████████████████████████████████| 20/20 [00:00<00:00, 76.25it/s]\n",
      "100%|█████████████████████████████████████████████| 20/20 [00:00<00:00, 76.65it/s]\n",
      "100%|█████████████████████████████████████████████| 20/20 [00:00<00:00, 76.39it/s]\n",
      "100%|█████████████████████████████████████████████| 20/20 [00:00<00:00, 76.47it/s]\n",
      "100%|█████████████████████████████████████████████| 20/20 [00:00<00:00, 61.48it/s]\n"
     ]
    },
    {
     "name": "stdout",
     "output_type": "stream",
     "text": [
      "Evaluating, analyzing and improving...\n",
      "Done!\n",
      "Accuracy: 0.75\n",
      "Iteration #1\n"
     ]
    },
    {
     "name": "stderr",
     "output_type": "stream",
     "text": [
      "100%|█████████████████████████████████████████████| 20/20 [00:06<00:00,  3.22it/s]\n",
      "100%|█████████████████████████████████████████████| 20/20 [00:05<00:00,  3.37it/s]\n",
      "100%|█████████████████████████████████████████████| 20/20 [00:06<00:00,  3.19it/s]\n",
      "100%|█████████████████████████████████████████████| 20/20 [00:48<00:00,  2.40s/it]\n",
      "100%|█████████████████████████████████████████████| 20/20 [00:06<00:00,  3.02it/s]\n",
      "100%|█████████████████████████████████████████████| 20/20 [00:00<00:00, 37.20it/s]\n",
      "100%|█████████████████████████████████████████████| 20/20 [00:00<00:00, 43.76it/s]\n",
      "100%|█████████████████████████████████████████████| 20/20 [00:00<00:00, 43.94it/s]\n",
      "100%|█████████████████████████████████████████████| 20/20 [00:00<00:00, 38.42it/s]\n",
      "100%|█████████████████████████████████████████████| 20/20 [00:00<00:00, 44.18it/s]\n"
     ]
    },
    {
     "name": "stdout",
     "output_type": "stream",
     "text": [
      "Evaluating, analyzing and improving...\n",
      "Done!\n",
      "Accuracy: 0.5\n",
      "Iteration #2\n"
     ]
    },
    {
     "name": "stderr",
     "output_type": "stream",
     "text": [
      "100%|█████████████████████████████████████████████| 20/20 [00:06<00:00,  3.21it/s]\n",
      "100%|█████████████████████████████████████████████| 20/20 [00:27<00:00,  1.35s/it]\n",
      "100%|█████████████████████████████████████████████| 20/20 [00:05<00:00,  3.34it/s]\n",
      "100%|█████████████████████████████████████████████| 20/20 [00:26<00:00,  1.35s/it]\n",
      "100%|█████████████████████████████████████████████| 20/20 [00:26<00:00,  1.34s/it]\n",
      "100%|█████████████████████████████████████████████| 20/20 [00:00<00:00, 25.24it/s]\n",
      "100%|█████████████████████████████████████████████| 20/20 [00:00<00:00, 24.39it/s]\n",
      "100%|█████████████████████████████████████████████| 20/20 [00:00<00:00, 32.67it/s]\n",
      "100%|█████████████████████████████████████████████| 20/20 [00:00<00:00, 31.22it/s]\n",
      "100%|█████████████████████████████████████████████| 20/20 [00:00<00:00, 27.00it/s]\n"
     ]
    },
    {
     "name": "stdout",
     "output_type": "stream",
     "text": [
      "Evaluating, analyzing and improving...\n",
      "Done!\n",
      "Accuracy: 1.0\n"
     ]
    }
   ],
   "source": [
    "for iteration in range(3):\n",
    "    print(f'Iteration #{iteration}')\n",
    "    run_result = agent.run()\n",
    "    learn_result = agent.learn(update_instructions=True)\n",
    "    \n",
    "    print(f'Accuracy: {learn_result.experience.accuracy}')"
   ]
  },
  {
   "cell_type": "code",
   "execution_count": 7,
   "id": "1520e32f",
   "metadata": {},
   "outputs": [
    {
     "name": "stdout",
     "output_type": "stream",
     "text": [
      "Classify a product review as \"Subjective\" or \"Objective\". A review should be classified as \"Subjective\" if it consists of personal opinions, feelings, or experiences, whether positive or negative. Terms that could indicate subjectivity include evaluative adjectives expressing personal sentiment (e.g., \"love\", \"like\", \"hate\", \"prefer\"). Additionally, the phraseology suggesting a personal take, a recommendation, or a summary judgment by the reviewer would also be a key to subjectivity. Label a review as \"Objective\" if it merely presents straight facts about the product's features, specifications, or identified performance issues without expressing any personal affective sentiments or evaluative adjectives. Refrain from considering clear, factual statements of both positive or negative aspects of the product as subjective.\n",
      "\n",
      "Examples:\n",
      "Input: \"The phone operates on Android 11.\"\n",
      "Output: Objective\n",
      "Input: \"I really appreciate the long battery life of this phone.\"\n",
      "Output: Subjective\n",
      "Input: \"The headphones offer a noise cancellation feature.\"\n",
      "Output: Objective\n",
      "Input: \"I am not a fan of the phone's slow processing speed.\"\n",
      "Output: Subjective\n",
      "Input: \"The camera captures photos in high resolution.\"\n",
      "Output: Objective\n"
     ]
    }
   ],
   "source": [
    "print(agent.skill.instructions)"
   ]
  }
 ],
 "metadata": {
  "kernelspec": {
   "display_name": "Python 3 (ipykernel)",
   "language": "python",
   "name": "python3"
  },
  "language_info": {
   "codemirror_mode": {
    "name": "ipython",
    "version": 3
   },
   "file_extension": ".py",
   "mimetype": "text/x-python",
   "name": "python",
   "nbconvert_exporter": "python",
   "pygments_lexer": "ipython3",
   "version": "3.11.4"
  }
 },
 "nbformat": 4,
 "nbformat_minor": 5
}

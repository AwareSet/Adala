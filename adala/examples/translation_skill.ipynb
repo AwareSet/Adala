{
 "cells": [
  {
   "cell_type": "markdown",
   "id": "9c472b40",
   "metadata": {},
   "source": [
    "# Translation skill\n",
    "\n",
    "In this notebook, we demonstrate how the Adala agent can use its translation skill to detect the language and translate text stored in tabular format."
   ]
  },
  {
   "cell_type": "code",
   "execution_count": 1,
   "id": "33423ea4",
   "metadata": {},
   "outputs": [
    {
     "data": {
      "text/html": [
       "<div>\n",
       "<style scoped>\n",
       "    .dataframe tbody tr th:only-of-type {\n",
       "        vertical-align: middle;\n",
       "    }\n",
       "\n",
       "    .dataframe tbody tr th {\n",
       "        vertical-align: top;\n",
       "    }\n",
       "\n",
       "    .dataframe thead th {\n",
       "        text-align: right;\n",
       "    }\n",
       "</style>\n",
       "<table border=\"1\" class=\"dataframe\">\n",
       "  <thead>\n",
       "    <tr style=\"text-align: right;\">\n",
       "      <th></th>\n",
       "      <th>text</th>\n",
       "      <th>language</th>\n",
       "    </tr>\n",
       "  </thead>\n",
       "  <tbody>\n",
       "    <tr>\n",
       "      <th>0</th>\n",
       "      <td>El sol brilla siempre</td>\n",
       "      <td>Spanish</td>\n",
       "    </tr>\n",
       "    <tr>\n",
       "      <th>1</th>\n",
       "      <td>La vie est belle</td>\n",
       "      <td>French</td>\n",
       "    </tr>\n",
       "    <tr>\n",
       "      <th>2</th>\n",
       "      <td>Der Wald ruft mich</td>\n",
       "      <td>German</td>\n",
       "    </tr>\n",
       "    <tr>\n",
       "      <th>3</th>\n",
       "      <td>Amo la pizza napoletana</td>\n",
       "      <td>Italian</td>\n",
       "    </tr>\n",
       "    <tr>\n",
       "      <th>4</th>\n",
       "      <td>春天的花很美</td>\n",
       "      <td>Chinese</td>\n",
       "    </tr>\n",
       "    <tr>\n",
       "      <th>5</th>\n",
       "      <td>Звезды сверкают ночью</td>\n",
       "      <td>Russian</td>\n",
       "    </tr>\n",
       "    <tr>\n",
       "      <th>6</th>\n",
       "      <td>雨の後の虹</td>\n",
       "      <td>Japanese</td>\n",
       "    </tr>\n",
       "    <tr>\n",
       "      <th>7</th>\n",
       "      <td>커피가 필요해</td>\n",
       "      <td>Korean</td>\n",
       "    </tr>\n",
       "    <tr>\n",
       "      <th>8</th>\n",
       "      <td>A música toca a alma</td>\n",
       "      <td>Portuguese</td>\n",
       "    </tr>\n",
       "    <tr>\n",
       "      <th>9</th>\n",
       "      <td>सपने सच होते हैं</td>\n",
       "      <td>Hindi</td>\n",
       "    </tr>\n",
       "  </tbody>\n",
       "</table>\n",
       "</div>"
      ],
      "text/plain": [
       "                      text    language\n",
       "0    El sol brilla siempre     Spanish\n",
       "1         La vie est belle      French\n",
       "2       Der Wald ruft mich      German\n",
       "3  Amo la pizza napoletana     Italian\n",
       "4                   春天的花很美     Chinese\n",
       "5    Звезды сверкают ночью     Russian\n",
       "6                    雨の後の虹    Japanese\n",
       "7                  커피가 필요해      Korean\n",
       "8     A música toca a alma  Portuguese\n",
       "9         सपने सच होते हैं       Hindi"
      ]
     },
     "execution_count": 1,
     "metadata": {},
     "output_type": "execute_result"
    }
   ],
   "source": [
    "import pandas as pd\n",
    "df = pd.DataFrame([\n",
    "    {\"text\": \"El sol brilla siempre\", \"language\": \"Spanish\"},\n",
    "    {\"text\": \"La vie est belle\", \"language\": \"French\"},          \n",
    "    {\"text\": \"Der Wald ruft mich\", \"language\": \"German\"},\n",
    "    {\"text\": \"Amo la pizza napoletana\", \"language\": \"Italian\"},\n",
    "    {\"text\": \"春天的花很美\", \"language\": \"Chinese\"},       \n",
    "    {\"text\": \"Звезды сверкают ночью\", \"language\": \"Russian\"},\n",
    "    {\"text\": \"雨の後の虹\", \"language\": \"Japanese\"},\n",
    "    {\"text\": \"커피가 필요해\", \"language\": \"Korean\"},\n",
    "    {\"text\": \"A música toca a alma\", \"language\": \"Portuguese\"},\n",
    "    {\"text\": \"सपने सच होते हैं\", \"language\": \"Hindi\"}\n",
    "])\n",
    "df"
   ]
  },
  {
   "cell_type": "code",
   "execution_count": 2,
   "id": "b022c544",
   "metadata": {},
   "outputs": [],
   "source": [
    "from adala.agents import Agent\n",
    "from adala.environments import BasicEnvironment\n",
    "from adala.skills.generation.translation import TranslationSkill\n",
    "from rich import print"
   ]
  },
  {
   "cell_type": "code",
   "execution_count": 3,
   "id": "32528385",
   "metadata": {},
   "outputs": [
    {
     "data": {
      "text/html": [
       "<pre style=\"white-space:pre;overflow-x:auto;line-height:normal;font-family:Menlo,'DejaVu Sans Mono',consolas,'Courier New',monospace\"><span style=\"color: #000080; text-decoration-color: #000080; font-weight: bold\">Agent Instance</span>\n",
       "\n",
       "Environment: BasicEnvironment\n",
       "Skills: translation\n",
       "Runtimes: openai\n",
       "Default Runtime: openai\n",
       "Default Teacher Runtime: openai-gpt3\n",
       "</pre>\n"
      ],
      "text/plain": [
       "\u001b[1;34mAgent Instance\u001b[0m\n",
       "\n",
       "Environment: BasicEnvironment\n",
       "Skills: translation\n",
       "Runtimes: openai\n",
       "Default Runtime: openai\n",
       "Default Teacher Runtime: openai-gpt3\n"
      ]
     },
     "metadata": {},
     "output_type": "display_data"
    }
   ],
   "source": [
    "agent = Agent(\n",
    "    environment=BasicEnvironment(ground_truth_dataset=df, ground_truth_column='language'),\n",
    "    skills=TranslationSkill(input_data_field='text')\n",
    ")\n",
    "print(agent)"
   ]
  },
  {
   "cell_type": "code",
   "execution_count": 4,
   "id": "35dbdd72",
   "metadata": {
    "scrolled": true
   },
   "outputs": [
    {
     "name": "stderr",
     "output_type": "stream",
     "text": [
      "100%|███████████████| 10/10 [00:05<00:00,  1.73it/s]\n"
     ]
    }
   ],
   "source": [
    "run = agent.apply_skills(df)"
   ]
  },
  {
   "cell_type": "code",
   "execution_count": 5,
   "id": "23308462",
   "metadata": {},
   "outputs": [
    {
     "data": {
      "text/html": [
       "<pre style=\"white-space:pre;overflow-x:auto;line-height:normal;font-family:Menlo,'DejaVu Sans Mono',consolas,'Courier New',monospace\"><span style=\"color: #000080; text-decoration-color: #000080; font-weight: bold\">Agent Experience:</span>\n",
       "\n",
       "\n",
       "<span style=\"font-weight: bold\">Predictions</span>\n",
       "                      text    language                           translation\n",
       "<span style=\"color: #008080; text-decoration-color: #008080; font-weight: bold\">0</span>    El sol brilla siempre     Spanish                 The sun always shines\n",
       "<span style=\"color: #008080; text-decoration-color: #008080; font-weight: bold\">1</span>         La vie est belle      French                     Life is beautiful\n",
       "<span style=\"color: #008080; text-decoration-color: #008080; font-weight: bold\">2</span>       Der Wald ruft mich      German              The forest is calling me\n",
       "<span style=\"color: #008080; text-decoration-color: #008080; font-weight: bold\">3</span>  Amo la pizza napoletana     Italian               I love Neapolitan pizza\n",
       "<span style=\"color: #008080; text-decoration-color: #008080; font-weight: bold\">4</span>                   春天的花很美     Chinese  The flowers in spring are beautiful.\n",
       "<span style=\"color: #008080; text-decoration-color: #008080; font-weight: bold\">5</span>    Звезды сверкают ночью     Russian            The stars twinkle at night\n",
       "<span style=\"color: #008080; text-decoration-color: #008080; font-weight: bold\">6</span>                    雨の後の虹    Japanese                Rainbow after the rain\n",
       "<span style=\"color: #008080; text-decoration-color: #008080; font-weight: bold\">7</span>                  커피가 필요해      Korean                        I need coffee.\n",
       "<span style=\"color: #008080; text-decoration-color: #008080; font-weight: bold\">8</span>     A música toca a alma  Portuguese            The music touches the soul\n",
       "<span style=\"color: #008080; text-decoration-color: #008080; font-weight: bold\">9</span>         सपने सच होते हैं       Hindi          Dreams do come true. <span style=\"font-weight: bold\">(</span>Hindi<span style=\"font-weight: bold\">)</span>\n",
       "</pre>\n"
      ],
      "text/plain": [
       "\u001b[1;34mAgent Experience:\u001b[0m\n",
       "\n",
       "\n",
       "\u001b[1mPredictions\u001b[0m\n",
       "                      text    language                           translation\n",
       "\u001b[1;36m0\u001b[0m    El sol brilla siempre     Spanish                 The sun always shines\n",
       "\u001b[1;36m1\u001b[0m         La vie est belle      French                     Life is beautiful\n",
       "\u001b[1;36m2\u001b[0m       Der Wald ruft mich      German              The forest is calling me\n",
       "\u001b[1;36m3\u001b[0m  Amo la pizza napoletana     Italian               I love Neapolitan pizza\n",
       "\u001b[1;36m4\u001b[0m                   春天的花很美     Chinese  The flowers in spring are beautiful.\n",
       "\u001b[1;36m5\u001b[0m    Звезды сверкают ночью     Russian            The stars twinkle at night\n",
       "\u001b[1;36m6\u001b[0m                    雨の後の虹    Japanese                Rainbow after the rain\n",
       "\u001b[1;36m7\u001b[0m                  커피가 필요해      Korean                        I need coffee.\n",
       "\u001b[1;36m8\u001b[0m     A música toca a alma  Portuguese            The music touches the soul\n",
       "\u001b[1;36m9\u001b[0m         सपने सच होते हैं       Hindi          Dreams do come true. \u001b[1m(\u001b[0mHindi\u001b[1m)\u001b[0m\n"
      ]
     },
     "metadata": {},
     "output_type": "display_data"
    }
   ],
   "source": [
    "print(run)"
   ]
  }
 ],
 "metadata": {
  "kernelspec": {
   "display_name": "Python 3 (ipykernel)",
   "language": "python",
   "name": "python3"
  },
  "language_info": {
   "codemirror_mode": {
    "name": "ipython",
    "version": 3
   },
   "file_extension": ".py",
   "mimetype": "text/x-python",
   "name": "python",
   "nbconvert_exporter": "python",
   "pygments_lexer": "ipython3",
   "version": "3.11.4"
  }
 },
 "nbformat": 4,
 "nbformat_minor": 5
}

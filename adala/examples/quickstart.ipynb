{
 "cells": [
  {
   "cell_type": "markdown",
   "id": "a6c119c3",
   "metadata": {},
   "source": [
    "# Quickstart\n",
    "\n",
    "In the quickstart guide, we demonstrate how to create a basic data labeling agent."
   ]
  },
  {
   "cell_type": "markdown",
   "id": "55c19afc",
   "metadata": {},
   "source": [
    "Let's use a dataset of product reviews stored in pandas dataframe, and trying to understand subjectiveness of given texts:"
   ]
  },
  {
   "cell_type": "code",
   "execution_count": 24,
   "id": "5d5b37a3",
   "metadata": {},
   "outputs": [
    {
     "data": {
      "text/html": [
       "<div>\n",
       "<style scoped>\n",
       "    .dataframe tbody tr th:only-of-type {\n",
       "        vertical-align: middle;\n",
       "    }\n",
       "\n",
       "    .dataframe tbody tr th {\n",
       "        vertical-align: top;\n",
       "    }\n",
       "\n",
       "    .dataframe thead th {\n",
       "        text-align: right;\n",
       "    }\n",
       "</style>\n",
       "<table border=\"1\" class=\"dataframe\">\n",
       "  <thead>\n",
       "    <tr style=\"text-align: right;\">\n",
       "      <th></th>\n",
       "      <th>text</th>\n",
       "    </tr>\n",
       "  </thead>\n",
       "  <tbody>\n",
       "    <tr>\n",
       "      <th>0</th>\n",
       "      <td>The mic is great.</td>\n",
       "    </tr>\n",
       "    <tr>\n",
       "      <th>1</th>\n",
       "      <td>Will order from them again!</td>\n",
       "    </tr>\n",
       "    <tr>\n",
       "      <th>2</th>\n",
       "      <td>Not loud enough and doesn't turn on like it sh...</td>\n",
       "    </tr>\n",
       "    <tr>\n",
       "      <th>3</th>\n",
       "      <td>The phone doesn't seem to accept anything exce...</td>\n",
       "    </tr>\n",
       "    <tr>\n",
       "      <th>4</th>\n",
       "      <td>All three broke within two months of use.</td>\n",
       "    </tr>\n",
       "  </tbody>\n",
       "</table>\n",
       "</div>"
      ],
      "text/plain": [
       "                                                text\n",
       "0                                  The mic is great.\n",
       "1                        Will order from them again!\n",
       "2  Not loud enough and doesn't turn on like it sh...\n",
       "3  The phone doesn't seem to accept anything exce...\n",
       "4          All three broke within two months of use."
      ]
     },
     "execution_count": 24,
     "metadata": {},
     "output_type": "execute_result"
    }
   ],
   "source": [
    "import pandas as pd\n",
    "texts = [\n",
    "    \"The mic is great.\",\n",
    "    \"Will order from them again!\",\n",
    "    \"Not loud enough and doesn't turn on like it should.\",\n",
    "    \"The phone doesn't seem to accept anything except CBR mp3s\",\n",
    "    \"All three broke within two months of use.\"\n",
    "]\n",
    "df = pd.DataFrame(texts, columns=['text'])\n",
    "df"
   ]
  },
  {
   "cell_type": "markdown",
   "id": "0dc201b3",
   "metadata": {},
   "source": [
    "Since the goal is to classify whether each review represents objective statement or subjective opionion, let's define our agent who should classify given dataset into the categories. The agent labeling abilities are defined as **\"Skills\"**, and each agent can possess many different skills. \n",
    "\n",
    "For simplicity, let's create an agent with only one labeling skill:"
   ]
  },
  {
   "cell_type": "code",
   "execution_count": 25,
   "id": "a1310fce",
   "metadata": {
    "scrolled": true
   },
   "outputs": [
    {
     "name": "stdout",
     "output_type": "stream",
     "text": [
      "\n",
      "Hi, I am a single shot agent.\n",
      "I can use a single skill to process a dataset.\n",
      "For example, you can instruct me to label your dataset.\n",
      "I have a skill name='subjectivity_detection' description='Understanding subjective and objective statements from text.' prompt_template=\"    {{>instructions}}\\n    \\n    Input: {{text}}\\n    Output: {{select 'predictions' options=labels logprobs='score'}}\\n    \" instructions='Classify a product review as either expressing \"Subjective\" or \"Objective\" statements.' prediction_field='predictions' labels=['Subjective', 'Objective'] which can label your dataset.\n"
     ]
    }
   ],
   "source": [
    "from adala.agents import SingleShotAgent\n",
    "from adala.datasets import DataFrameDataset\n",
    "from adala.skills import ClassificationSkill\n",
    "\n",
    "agent = SingleShotAgent(\n",
    "    # connect to a dataset\n",
    "    dataset=DataFrameDataset(df=df),\n",
    "    \n",
    "    # define the agent's labeling skill\n",
    "    skill=ClassificationSkill(\n",
    "        name='subjectivity_detection',\n",
    "        description='Understanding subjective and objective statements from text.',\n",
    "        instructions='Classify a product review as either expressing \"Subjective\" or \"Objective\" statements.',\n",
    "        labels=['Subjective', 'Objective']\n",
    "    )\n",
    ")\n",
    "\n",
    "agent.greet()"
   ]
  },
  {
   "cell_type": "markdown",
   "id": "8340dde8",
   "metadata": {},
   "source": [
    "Now let's run our agent on a given dataset"
   ]
  },
  {
   "cell_type": "code",
   "execution_count": 26,
   "id": "666c8d0f",
   "metadata": {},
   "outputs": [
    {
     "name": "stderr",
     "output_type": "stream",
     "text": [
      "100%|███████████████████████████████████████████████| 5/5 [00:00<00:00, 49.62it/s]\n"
     ]
    },
    {
     "data": {
      "text/html": [
       "<div>\n",
       "<style scoped>\n",
       "    .dataframe tbody tr th:only-of-type {\n",
       "        vertical-align: middle;\n",
       "    }\n",
       "\n",
       "    .dataframe tbody tr th {\n",
       "        vertical-align: top;\n",
       "    }\n",
       "\n",
       "    .dataframe thead th {\n",
       "        text-align: right;\n",
       "    }\n",
       "</style>\n",
       "<table border=\"1\" class=\"dataframe\">\n",
       "  <thead>\n",
       "    <tr style=\"text-align: right;\">\n",
       "      <th></th>\n",
       "      <th>text</th>\n",
       "      <th>ground_truth</th>\n",
       "      <th>predictions</th>\n",
       "      <th>score</th>\n",
       "    </tr>\n",
       "  </thead>\n",
       "  <tbody>\n",
       "    <tr>\n",
       "      <th>0</th>\n",
       "      <td>The mic is great.</td>\n",
       "      <td>NaN</td>\n",
       "      <td>Subjective</td>\n",
       "      <td>{'Subjective': -0.04570976299999997, 'Objectiv...</td>\n",
       "    </tr>\n",
       "    <tr>\n",
       "      <th>1</th>\n",
       "      <td>Will order from them again!</td>\n",
       "      <td>NaN</td>\n",
       "      <td>Subjective</td>\n",
       "      <td>{'Subjective': -0.31326162999999996, 'Objectiv...</td>\n",
       "    </tr>\n",
       "    <tr>\n",
       "      <th>2</th>\n",
       "      <td>Not loud enough and doesn't turn on like it sh...</td>\n",
       "      <td>NaN</td>\n",
       "      <td>Subjective</td>\n",
       "      <td>{'Subjective': -0.10020652400000002, 'Objectiv...</td>\n",
       "    </tr>\n",
       "    <tr>\n",
       "      <th>3</th>\n",
       "      <td>The phone doesn't seem to accept anything exce...</td>\n",
       "      <td>NaN</td>\n",
       "      <td>Subjective</td>\n",
       "      <td>{'Subjective': -0.674278, 'Objective': -0.7123...</td>\n",
       "    </tr>\n",
       "    <tr>\n",
       "      <th>4</th>\n",
       "      <td>All three broke within two months of use.</td>\n",
       "      <td>NaN</td>\n",
       "      <td>Objective</td>\n",
       "      <td>{'Subjective': -3.1679988, 'Objective': -0.042...</td>\n",
       "    </tr>\n",
       "  </tbody>\n",
       "</table>\n",
       "</div>"
      ],
      "text/plain": [
       "                                                text  ground_truth  \\\n",
       "0                                  The mic is great.           NaN   \n",
       "1                        Will order from them again!           NaN   \n",
       "2  Not loud enough and doesn't turn on like it sh...           NaN   \n",
       "3  The phone doesn't seem to accept anything exce...           NaN   \n",
       "4          All three broke within two months of use.           NaN   \n",
       "\n",
       "  predictions                                              score  \n",
       "0  Subjective  {'Subjective': -0.04570976299999997, 'Objectiv...  \n",
       "1  Subjective  {'Subjective': -0.31326162999999996, 'Objectiv...  \n",
       "2  Subjective  {'Subjective': -0.10020652400000002, 'Objectiv...  \n",
       "3  Subjective  {'Subjective': -0.674278, 'Objective': -0.7123...  \n",
       "4   Objective  {'Subjective': -3.1679988, 'Objective': -0.042...  "
      ]
     },
     "execution_count": 26,
     "metadata": {},
     "output_type": "execute_result"
    }
   ],
   "source": [
    "run_results = agent.run()\n",
    "pd.concat((df, run_results.experience.predictions), axis=1)"
   ]
  },
  {
   "cell_type": "markdown",
   "id": "b8d49385",
   "metadata": {},
   "source": [
    "We may observe some errors in the predicted dataset. Let's fix them and create _ground truth_ signal:"
   ]
  },
  {
   "cell_type": "code",
   "execution_count": 27,
   "id": "2f2bf273",
   "metadata": {},
   "outputs": [],
   "source": [
    "df.loc[0, 'ground_truth'] = 'Subjective'\n",
    "df.loc[1, 'ground_truth'] = 'Subjective'\n",
    "df.loc[2, 'ground_truth'] = 'Objective'\n",
    "df.loc[3, 'ground_truth'] = 'Objective'\n",
    "df.loc[4, 'ground_truth'] = 'Objective'"
   ]
  },
  {
   "cell_type": "markdown",
   "id": "449f1081",
   "metadata": {},
   "source": [
    "and then we can ask our agent to learn and improve itself:"
   ]
  },
  {
   "cell_type": "code",
   "execution_count": 28,
   "id": "336b28a8",
   "metadata": {
    "scrolled": true
   },
   "outputs": [
    {
     "name": "stderr",
     "output_type": "stream",
     "text": [
      "100%|███████████████████████████████████████████████| 5/5 [00:00<00:00, 54.83it/s]\n"
     ]
    },
    {
     "name": "stdout",
     "output_type": "stream",
     "text": [
      "Evaluating, analyzing and improving...\n",
      "Done!\n"
     ]
    }
   ],
   "source": [
    "learn_results = agent.learn()"
   ]
  },
  {
   "cell_type": "code",
   "execution_count": 31,
   "id": "00578238",
   "metadata": {},
   "outputs": [
    {
     "name": "stdout",
     "output_type": "stream",
     "text": [
      "Classify a product review considering the following aspects: if the review consists of factual information or concrete feature descriptions, categorize it as \"Objective\"; if the review includes personal feelings, opinions, beliefs, or preferences of the reviewer, categorize it as \"Subjective\".\n",
      "\n",
      "Examples:\n",
      "Input: \"The phone doesn't seem to accept anything except CBR mp3s.\"\n",
      "Output: \"Objective\"\n",
      "Input: \"Not loud enough and doesn't turn on like it should.\"\n",
      "Output: \"Objective\"\n",
      "Input: \"I don't like the color of this phone.\"\n",
      "Output: \"Subjective\"\n"
     ]
    }
   ],
   "source": [
    "print(learn_results.experience.updated_instructions)"
   ]
  }
 ],
 "metadata": {
  "kernelspec": {
   "display_name": "Python 3 (ipykernel)",
   "language": "python",
   "name": "python3"
  },
  "language_info": {
   "codemirror_mode": {
    "name": "ipython",
    "version": 3
   },
   "file_extension": ".py",
   "mimetype": "text/x-python",
   "name": "python",
   "nbconvert_exporter": "python",
   "pygments_lexer": "ipython3",
   "version": "3.11.4"
  }
 },
 "nbformat": 4,
 "nbformat_minor": 5
}
{
 "cells": [
  {
   "cell_type": "markdown",
   "id": "47a83e51",
   "metadata": {},
   "source": [
    "The tutorial demonstrates how to create a new skill. It provides a step-by-step guide on creating a skill from scratch as well as using predefined templates"
   ]
  },
  {
   "cell_type": "markdown",
   "id": "5a9eee84",
   "metadata": {},
   "source": [
    "# Creating skill from existing template\n",
    "\n",
    "If your goal is to create a skill that follows specific scenario (for example - classifying dataset rows onto predefined categories), then you can use one of the existing skills and redefine the instruction:"
   ]
  },
  {
   "cell_type": "code",
   "execution_count": 3,
   "id": "9bb95fc8",
   "metadata": {},
   "outputs": [],
   "source": [
    "from adala.skills import LabelingSkillWithCoT\n",
    "\n",
    "new_skill = LabelingSkillWithCoT(\n",
    "    name='product_type',\n",
    "    description='Skill to recognize general electronic product category',\n",
    "    instructions='Recognize product category.',\n",
    "    labels= [\n",
    "        \"Consumer Electronics\",\n",
    "        \"Home Appliances\",\n",
    "        \"Office Electronics\",\n",
    "        \"Medical Electronics\",\n",
    "        \"Industrial Electronics\",\n",
    "        \"Automotive Electronics\",\n",
    "        \"Wearable Electronics\",\n",
    "        \"Networking and Communication\",\n",
    "        \"Personal Care Electronics\",\n",
    "        \"DIY and Hobbyist Electronics\",\n",
    "        \"Home Automation and Security\",\n",
    "        \"Portable Storage\",\n",
    "        \"Power Devices\"\n",
    "    ]\n",
    ")"
   ]
  },
  {
   "cell_type": "markdown",
   "id": "be7125f8",
   "metadata": {},
   "source": [
    "Applying this skill to a dataset is straightforward:"
   ]
  },
  {
   "cell_type": "code",
   "execution_count": 13,
   "id": "a7f3213b",
   "metadata": {},
   "outputs": [
    {
     "name": "stderr",
     "output_type": "stream",
     "text": [
      "100%|█████████████████████████████████████████████| 10/10 [00:01<00:00,  8.00it/s]\n"
     ]
    },
    {
     "data": {
      "text/html": [
       "<div>\n",
       "<style scoped>\n",
       "    .dataframe tbody tr th:only-of-type {\n",
       "        vertical-align: middle;\n",
       "    }\n",
       "\n",
       "    .dataframe tbody tr th {\n",
       "        vertical-align: top;\n",
       "    }\n",
       "\n",
       "    .dataframe thead th {\n",
       "        text-align: right;\n",
       "    }\n",
       "</style>\n",
       "<table border=\"1\" class=\"dataframe\">\n",
       "  <thead>\n",
       "    <tr style=\"text-align: right;\">\n",
       "      <th></th>\n",
       "      <th>text</th>\n",
       "      <th>label</th>\n",
       "      <th>ground_truth</th>\n",
       "      <th>predictions</th>\n",
       "      <th>score</th>\n",
       "    </tr>\n",
       "  </thead>\n",
       "  <tbody>\n",
       "    <tr>\n",
       "      <th>0</th>\n",
       "      <td>So there is no way for me to plug it in here i...</td>\n",
       "      <td>0</td>\n",
       "      <td>NaN</td>\n",
       "      <td>Portable Storage</td>\n",
       "      <td>{'Consumer Electronics': -0.84616333, 'Home Ap...</td>\n",
       "    </tr>\n",
       "    <tr>\n",
       "      <th>1</th>\n",
       "      <td>Good case, Excellent value.</td>\n",
       "      <td>1</td>\n",
       "      <td>NaN</td>\n",
       "      <td>Consumer Electronics</td>\n",
       "      <td>{'Consumer Electronics': -0.9398417000000001, ...</td>\n",
       "    </tr>\n",
       "    <tr>\n",
       "      <th>2</th>\n",
       "      <td>Great for the jawbone.</td>\n",
       "      <td>1</td>\n",
       "      <td>NaN</td>\n",
       "      <td>Wearable Electronics</td>\n",
       "      <td>{'Consumer Electronics': -3.636905, 'Home Appl...</td>\n",
       "    </tr>\n",
       "    <tr>\n",
       "      <th>3</th>\n",
       "      <td>Tied to charger for conversations lasting more...</td>\n",
       "      <td>0</td>\n",
       "      <td>NaN</td>\n",
       "      <td>Portable Storage</td>\n",
       "      <td>{'Consumer Electronics': -7.305189, 'Home Appl...</td>\n",
       "    </tr>\n",
       "    <tr>\n",
       "      <th>4</th>\n",
       "      <td>The mic is great.</td>\n",
       "      <td>1</td>\n",
       "      <td>NaN</td>\n",
       "      <td>Portable Storage</td>\n",
       "      <td>{'Consumer Electronics': -1000, 'Home Applianc...</td>\n",
       "    </tr>\n",
       "    <tr>\n",
       "      <th>5</th>\n",
       "      <td>I have to jiggle the plug to get it to line up...</td>\n",
       "      <td>0</td>\n",
       "      <td>NaN</td>\n",
       "      <td>Home Appliances</td>\n",
       "      <td>{'Consumer Electronics': -1.1856575, 'Home App...</td>\n",
       "    </tr>\n",
       "    <tr>\n",
       "      <th>6</th>\n",
       "      <td>If you have several dozen or several hundred c...</td>\n",
       "      <td>0</td>\n",
       "      <td>NaN</td>\n",
       "      <td>Personal Care Electronics</td>\n",
       "      <td>{'Consumer Electronics': -5.035703, 'Home Appl...</td>\n",
       "    </tr>\n",
       "    <tr>\n",
       "      <th>7</th>\n",
       "      <td>If you are Razr owner...you must have this!</td>\n",
       "      <td>1</td>\n",
       "      <td>NaN</td>\n",
       "      <td>Personal Care Electronics</td>\n",
       "      <td>{'Consumer Electronics': -1.8599268999999998, ...</td>\n",
       "    </tr>\n",
       "    <tr>\n",
       "      <th>8</th>\n",
       "      <td>Needless to say, I wasted my money.</td>\n",
       "      <td>0</td>\n",
       "      <td>NaN</td>\n",
       "      <td>Consumer Electronics</td>\n",
       "      <td>{'Consumer Electronics': -0.7968074, 'Home App...</td>\n",
       "    </tr>\n",
       "    <tr>\n",
       "      <th>9</th>\n",
       "      <td>What a waste of money and time!.</td>\n",
       "      <td>0</td>\n",
       "      <td>NaN</td>\n",
       "      <td>Personal Care Electronics</td>\n",
       "      <td>{'Consumer Electronics': -0.8627923000000001, ...</td>\n",
       "    </tr>\n",
       "  </tbody>\n",
       "</table>\n",
       "</div>"
      ],
      "text/plain": [
       "                                                text  label  ground_truth  \\\n",
       "0  So there is no way for me to plug it in here i...      0           NaN   \n",
       "1                        Good case, Excellent value.      1           NaN   \n",
       "2                             Great for the jawbone.      1           NaN   \n",
       "3  Tied to charger for conversations lasting more...      0           NaN   \n",
       "4                                  The mic is great.      1           NaN   \n",
       "5  I have to jiggle the plug to get it to line up...      0           NaN   \n",
       "6  If you have several dozen or several hundred c...      0           NaN   \n",
       "7        If you are Razr owner...you must have this!      1           NaN   \n",
       "8                Needless to say, I wasted my money.      0           NaN   \n",
       "9                   What a waste of money and time!.      0           NaN   \n",
       "\n",
       "                 predictions  \\\n",
       "0           Portable Storage   \n",
       "1       Consumer Electronics   \n",
       "2       Wearable Electronics   \n",
       "3           Portable Storage   \n",
       "4           Portable Storage   \n",
       "5            Home Appliances   \n",
       "6  Personal Care Electronics   \n",
       "7  Personal Care Electronics   \n",
       "8       Consumer Electronics   \n",
       "9  Personal Care Electronics   \n",
       "\n",
       "                                               score  \n",
       "0  {'Consumer Electronics': -0.84616333, 'Home Ap...  \n",
       "1  {'Consumer Electronics': -0.9398417000000001, ...  \n",
       "2  {'Consumer Electronics': -3.636905, 'Home Appl...  \n",
       "3  {'Consumer Electronics': -7.305189, 'Home Appl...  \n",
       "4  {'Consumer Electronics': -1000, 'Home Applianc...  \n",
       "5  {'Consumer Electronics': -1.1856575, 'Home App...  \n",
       "6  {'Consumer Electronics': -5.035703, 'Home Appl...  \n",
       "7  {'Consumer Electronics': -1.8599268999999998, ...  \n",
       "8  {'Consumer Electronics': -0.7968074, 'Home App...  \n",
       "9  {'Consumer Electronics': -0.8627923000000001, ...  "
      ]
     },
     "execution_count": 13,
     "metadata": {},
     "output_type": "execute_result"
    }
   ],
   "source": [
    "from adala.agents import SingleShotAgent\n",
    "from adala.datasets import DataFrameDataset\n",
    "\n",
    "import pandas as pd\n",
    "\n",
    "filepath = 'https://hs-sandbox-pub.s3.amazonaws.com/amazon_cells_labelled.tsv'\n",
    "df = pd.read_csv(filepath, sep='\\t', nrows=10)\n",
    "\n",
    "agent = SingleShotAgent(\n",
    "    dataset=DataFrameDataset(df=df),\n",
    "    skill=new_skill\n",
    ")\n",
    "\n",
    "run_result = agent.run()\n",
    "pd.concat((df, run_result.experience.predictions), axis=1)"
   ]
  },
  {
   "cell_type": "markdown",
   "id": "61578f01",
   "metadata": {},
   "source": [
    "# Creating a skill with new templates\n",
    "\n",
    "You can modify skill by changing instructions, input and output templates. Let's explore the anatomy of the skill:"
   ]
  },
  {
   "cell_type": "markdown",
   "id": "adf404ac",
   "metadata": {},
   "source": [
    "Input template is used to fetch data from the input dataset. It can additionally contain any other generations:"
   ]
  },
  {
   "cell_type": "code",
   "execution_count": 14,
   "id": "e8ec0411",
   "metadata": {},
   "outputs": [
    {
     "data": {
      "text/plain": [
       "\"Input: {{text}}\\nThoughts: {{gen 'rationale'}}\\n\""
      ]
     },
     "execution_count": 14,
     "metadata": {},
     "output_type": "execute_result"
    }
   ],
   "source": [
    "new_skill.input_template"
   ]
  },
  {
   "cell_type": "markdown",
   "id": "373f94d9",
   "metadata": {},
   "source": [
    "Output template is where the model predictions are generated. To validate a specific prediction field against `ground_truth` data in the original dataset, specify `prediction_field` parameter in the skill:"
   ]
  },
  {
   "cell_type": "code",
   "execution_count": 16,
   "id": "4bb29ac5",
   "metadata": {},
   "outputs": [
    {
     "data": {
      "text/plain": [
       "\"Output: {{select 'predictions' options=labels logprobs='score'}}\""
      ]
     },
     "execution_count": 16,
     "metadata": {},
     "output_type": "execute_result"
    }
   ],
   "source": [
    "new_skill.output_template"
   ]
  },
  {
   "cell_type": "code",
   "execution_count": 17,
   "id": "f11e1c72",
   "metadata": {},
   "outputs": [],
   "source": [
    "new_skill.prediction_field = 'predictions'"
   ]
  },
  {
   "cell_type": "markdown",
   "id": "826f6c29",
   "metadata": {},
   "source": [
    "To read more how create templates, check [guidance documentation](https://github.com/guidance-ai/guidance)"
   ]
  },
  {
   "cell_type": "markdown",
   "id": "9a02c9e4",
   "metadata": {},
   "source": [
    "# Create a custom skill\n"
   ]
  },
  {
   "cell_type": "markdown",
   "id": "3f432b75",
   "metadata": {},
   "source": [
    "You can also create a completely new skill, by overriding the functions:"
   ]
  },
  {
   "cell_type": "code",
   "execution_count": 30,
   "id": "7af8713d",
   "metadata": {},
   "outputs": [
    {
     "data": {
      "text/plain": [
       "{'name': '',\n",
       " 'description': '',\n",
       " 'instructions': '',\n",
       " 'input_template': '',\n",
       " 'output_template': '',\n",
       " 'prediction_field': ''}"
      ]
     },
     "execution_count": 30,
     "metadata": {},
     "output_type": "execute_result"
    }
   ],
   "source": [
    "from adala.skills import Skill\n",
    "from adala.datasets import Dataset\n",
    "from adala.runtimes import Runtime\n",
    "from adala.memories import ShortTermMemory, LongTermMemory\n",
    "\n",
    "class MyNewSkill(Skill):\n",
    "    \n",
    "    def apply(dataset: Dataset, runtime: Runtime) -> ShortTermMemory:\n",
    "        pass\n",
    "    \n",
    "    def evaluate(self, experience: ShortTermMemory) -> ShortTermMemory:\n",
    "        pass\n",
    "    \n",
    "    def analyze(self, experience: ShortTermMemory, memory: LongTermMemory = None, runtime: Runtime = None) -> ShortTermMemory:\n",
    "        pass\n",
    "    \n",
    "    def improve(self, experience: ShortTermMemory) -> ShortTermMemory:\n",
    "        pass\n",
    "    \n",
    "MyNewSkill().model_dump()"
   ]
  }
 ],
 "metadata": {
  "kernelspec": {
   "display_name": "Python 3 (ipykernel)",
   "language": "python",
   "name": "python3"
  },
  "language_info": {
   "codemirror_mode": {
    "name": "ipython",
    "version": 3
   },
   "file_extension": ".py",
   "mimetype": "text/x-python",
   "name": "python",
   "nbconvert_exporter": "python",
   "pygments_lexer": "ipython3",
   "version": "3.11.4"
  }
 },
 "nbformat": 4,
 "nbformat_minor": 5
}

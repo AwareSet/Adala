{
 "cells": [
  {
   "cell_type": "markdown",
   "id": "44ad9d23",
   "metadata": {},
   "source": [
    "# Use Label Studio export file as Dataset\n"
   ]
  },
  {
   "cell_type": "markdown",
   "id": "c3d2b1e1",
   "metadata": {},
   "source": [
    "Ensure you have a [Label Studio instance installed, and you are able to upload and label data inside a project](https://labelstud.io/guide/get_started)"
   ]
  },
  {
   "cell_type": "code",
   "execution_count": null,
   "id": "1425978d",
   "metadata": {},
   "outputs": [],
   "source": [
    "!pip install label-studio"
   ]
  },
  {
   "cell_type": "markdown",
   "id": "400e20e8",
   "metadata": {},
   "source": [
    "When annotation is completed in Label Studio, you can [export data in JSON format](https://labelstud.io/guide/export)"
   ]
  },
  {
   "cell_type": "code",
   "execution_count": 1,
   "id": "ffb4ca03",
   "metadata": {},
   "outputs": [],
   "source": [
    "label_studio_file = '/Users/nik/Downloads/project-218-at-2023-10-20-12-02-521de4a2.json'"
   ]
  },
  {
   "cell_type": "markdown",
   "id": "a52df376",
   "metadata": {},
   "source": [
    "Let's create a dataset to feed in Adala agent"
   ]
  },
  {
   "cell_type": "code",
   "execution_count": 2,
   "id": "518eca60",
   "metadata": {
    "scrolled": true
   },
   "outputs": [
    {
     "name": "stdout",
     "output_type": "stream",
     "text": [
      "Total Label Studio tasks loaded: 65\n"
     ]
    }
   ],
   "source": [
    "from adala.datasets import LabelStudioFileDataset\n",
    "\n",
    "dataset = LabelStudioFileDataset(label_studio_file=label_studio_file)\n",
    "dataset.info()"
   ]
  },
  {
   "cell_type": "markdown",
   "id": "2dad76fb",
   "metadata": {},
   "source": [
    "Create an agent with a basic classification skill, that accepts `text` column from the tasks payload:"
   ]
  },
  {
   "cell_type": "code",
   "execution_count": 3,
   "id": "ecf4a291",
   "metadata": {},
   "outputs": [
    {
     "name": "stderr",
     "output_type": "stream",
     "text": [
      "/Users/nik/opt/anaconda3/envs/lc/lib/python3.11/site-packages/pydantic/_internal/_fields.py:128: UserWarning: Field \"model_name\" has conflict with protected namespace \"model_\".\n",
      "\n",
      "You may be able to resolve this warning by setting `model_config['protected_namespaces'] = ()`.\n",
      "  warnings.warn(\n"
     ]
    },
    {
     "name": "stdout",
     "output_type": "stream",
     "text": [
      "\n",
      "Hi, I am a single shot agent.\n",
      "I can use a single skill to process a dataset.\n",
      "For example, you can instruct me to label your dataset.\n",
      "I have a skill name='' description='' instructions='Label the input text with the following labels: {{labels}}' input_template='Text: {{text}}' output_template=\"Output: {{select 'predictions' options=labels logprobs='score'}}\" prediction_field='predictions' labels=['Subjective', 'Objective']\n"
     ]
    }
   ],
   "source": [
    "from adala.agents import SingleShotAgent\n",
    "from adala.skills import ClassificationSkill\n",
    "\n",
    "agent = SingleShotAgent(\n",
    "    dataset = dataset,\n",
    "    skill = ClassificationSkill(\n",
    "        labels=['Subjective', 'Objective'],\n",
    "        input_template='Text: {{text}}'\n",
    "    )\n",
    ")\n",
    "agent.greet()"
   ]
  },
  {
   "cell_type": "markdown",
   "id": "5bb85801",
   "metadata": {},
   "source": [
    "### Run agent"
   ]
  },
  {
   "cell_type": "code",
   "execution_count": 4,
   "id": "a98f8ed5",
   "metadata": {},
   "outputs": [
    {
     "data": {
      "text/html": [
       "<div id=\"guidance-stop-button-faf24eca-4c94-4d9d-a98a-cf19a9e19fd7\" style=\"cursor: pointer; margin: 0px; display: none; float: right; padding: 3px; border-radius: 4px 4px 4px 4px; border: 0px solid rgba(127, 127, 127, 1); padding-left: 10px; padding-right: 10px; font-size: 13px; background-color: rgba(127, 127, 127, 0.25);\">Stop program</div><div id=\"guidance-content-faf24eca-4c94-4d9d-a98a-cf19a9e19fd7\"><pre style='margin: 0px; padding: 0px; padding-left: 8px; margin-left: -8px; border-radius: 0px; border-left: 1px solid rgba(127, 127, 127, 0.2); white-space: pre-wrap; font-family: ColfaxAI, Arial; font-size: 15px; line-height: 23px;'><div style='display: flex; border-bottom: 1px solid rgba(127, 127, 127, 0.2); align-items: center;'><div style='flex: 0 0 80px; opacity: 0.5;'>system</div><div style='flex-grow: 1; padding: 5px; padding-top: 10px; padding-bottom: 10px; margin-top: 0px; white-space: pre-wrap; margin-bottom: 0px;'>LLM prompt was created by concatenating instructions with text input:\n",
       "\n",
       "Prediction = LLM(Input, Instructions)\n",
       "\n",
       "We expect the prediction to be equal to the ground truth.\n",
       "Your task is to craft a revised concise instruction for the LLM. Follow best practices for LLM prompt engineering.\n",
       "Include 2-3 examples at the end of your response to demonstrate how the new instruction would be applied.\n",
       "Use the following format for your examples:\n",
       "Input: ...\n",
       "Output: ...</div></div><div style='display: flex; border-bottom: 1px solid rgba(127, 127, 127, 0.2); align-items: center;'><div style='flex: 0 0 80px; opacity: 0.5;'>user</div><div style='flex-grow: 1; padding: 5px; padding-top: 10px; padding-bottom: 10px; margin-top: 0px; white-space: pre-wrap; margin-bottom: 0px;'>Old instruction: <span style='background-color: rgba(0, 138.56128016, 250.76166089, 0.25); display: inline;' title='{{old_instruction}}'>Label the input text with the following labels: <span style='font-family: monospace; background-color: rgba(0, 0, 0, 0.05);'>{{labels}}</span></span>\n",
       "Errors: <span style='opacity: 1.0; display: inline; background-color: rgba(165, 165, 165, 0.1);' title='{{#each errors}}\n",
       "Input: {{this.input}}\n",
       "Prediction: {{this.prediction}}\n",
       "Ground truth: {{this.ground_truth}}\n",
       "{{/each}}'>\n",
       "Input: <span style='background-color: rgba(0, 138.56128016, 250.76166089, 0.25); display: inline;' title='{{this.input}}'>Text: Also the area where my unit broke).- I&#x27;m not too fond of the magnetic strap.</span>\n",
       "Prediction: <span style='background-color: rgba(0, 138.56128016, 250.76166089, 0.25); display: inline;' title='{{this.prediction}}'>Subjective</span>\n",
       "Ground truth: <span style='background-color: rgba(0, 138.56128016, 250.76166089, 0.25); display: inline;' title='{{this.ground_truth}}'>Objective</span>\n",
       "\n",
       "Input: <span style='background-color: rgba(0, 138.56128016, 250.76166089, 0.25); display: inline;' title='{{this.input}}'>Text: Beautiful styling though.</span>\n",
       "Prediction: <span style='background-color: rgba(0, 138.56128016, 250.76166089, 0.25); display: inline;' title='{{this.prediction}}'>Subjective</span>\n",
       "Ground truth: <span style='background-color: rgba(0, 138.56128016, 250.76166089, 0.25); display: inline;' title='{{this.ground_truth}}'>Objective</span>\n",
       "\n",
       "Input: <span style='background-color: rgba(0, 138.56128016, 250.76166089, 0.25); display: inline;' title='{{this.input}}'>Text: 1. long lasting battery (you don&#x27;t have to recharge it as frequentyly as some of the flip phones)2.</span>\n",
       "Prediction: <span style='background-color: rgba(0, 138.56128016, 250.76166089, 0.25); display: inline;' title='{{this.prediction}}'>Subjective</span>\n",
       "Ground truth: <span style='background-color: rgba(0, 138.56128016, 250.76166089, 0.25); display: inline;' title='{{this.ground_truth}}'>Objective</span>\n",
       "</span>\n",
       "New instruction:</div></div><div style='display: flex; border-bottom: 1px solid rgba(127, 127, 127, 0.2); align-items: center;'><div style='flex: 0 0 80px; opacity: 0.5;'>assistant</div><div style='flex-grow: 1; padding: 5px; padding-top: 10px; padding-bottom: 10px; margin-top: 0px; white-space: pre-wrap; margin-bottom: 0px;'><span style='background-color: rgba(0, 165, 0, 0.25); opacity: 1.0; display: inline;' title='{{gen &#x27;new_instruction&#x27;}}'>Please categorize the given text as either &#x27;Subjective&#x27; (expressing personal feelings, tastes, or opinions) or &#x27;Objective&#x27; (based on facts, not influenced by personal feelings or bias).\n",
       "\n",
       "Examples:\n",
       "Input: Text: Also the area where my unit broke).- I&#x27;m not too fond of the magnetic strap.\n",
       "Output: Objective\n",
       "\n",
       "Input: Text: Beautiful styling though.\n",
       "Output: Objective\n",
       "\n",
       "Input: Text: 1. long lasting battery (you don&#x27;t have to recharge it as frequently as some of the flip phones)2.\n",
       "Output: Objective</span></div></div></pre></div>\n",
       "<script type=\"text/javascript\">(()=>{var t={296:(t,e,n)=>{var i=NaN,o=\"[object Symbol]\",r=/^\\s+|\\s+$/g,a=/^[-+]0x[0-9a-f]+$/i,s=/^0b[01]+$/i,c=/^0o[0-7]+$/i,d=parseInt,u=\"object\"==typeof n.g&&n.g&&n.g.Object===Object&&n.g,l=\"object\"==typeof self&&self&&self.Object===Object&&self,f=u||l||Function(\"return this\")(),h=Object.prototype.toString,p=Math.max,m=Math.min,g=function(){return f.Date.now()};function b(t){var e=typeof t;return!!t&&(\"object\"==e||\"function\"==e)}function y(t){if(\"number\"==typeof t)return t;if(function(t){return\"symbol\"==typeof t||function(t){return!!t&&\"object\"==typeof t}(t)&&h.call(t)==o}(t))return i;if(b(t)){var e=\"function\"==typeof t.valueOf?t.valueOf():t;t=b(e)?e+\"\":e}if(\"string\"!=typeof t)return 0===t?t:+t;t=t.replace(r,\"\");var n=s.test(t);return n||c.test(t)?d(t.slice(2),n?2:8):a.test(t)?i:+t}t.exports=function(t,e,n){var i,o,r,a,s,c,d=0,u=!1,l=!1,f=!0;if(\"function\"!=typeof t)throw new TypeError(\"Expected a function\");function h(e){var n=i,r=o;return i=o=void 0,d=e,a=t.apply(r,n)}function v(t){var n=t-c;return void 0===c||n>=e||n<0||l&&t-d>=r}function _(){var t=g();if(v(t))return w(t);s=setTimeout(_,function(t){var n=e-(t-c);return l?m(n,r-(t-d)):n}(t))}function w(t){return s=void 0,f&&i?h(t):(i=o=void 0,a)}function j(){var t=g(),n=v(t);if(i=arguments,o=this,c=t,n){if(void 0===s)return function(t){return d=t,s=setTimeout(_,e),u?h(t):a}(c);if(l)return s=setTimeout(_,e),h(c)}return void 0===s&&(s=setTimeout(_,e)),a}return e=y(e)||0,b(n)&&(u=!!n.leading,r=(l=\"maxWait\"in n)?p(y(n.maxWait)||0,e):r,f=\"trailing\"in n?!!n.trailing:f),j.cancel=function(){void 0!==s&&clearTimeout(s),d=0,i=c=o=s=void 0},j.flush=function(){return void 0===s?a:w(g())},j}},777:t=>{var e,n,i=Math.max,o=(e=function(t,e){return function(t,e,n){if(\"function\"!=typeof t)throw new TypeError(\"Expected a function\");return setTimeout((function(){t.apply(void 0,n)}),1)}(t,0,e)},n=i(void 0===n?e.length-1:n,0),function(){for(var t=arguments,o=-1,r=i(t.length-n,0),a=Array(r);++o<r;)a[o]=t[n+o];o=-1;for(var s=Array(n+1);++o<n;)s[o]=t[o];return s[n]=a,function(t,e,n){switch(n.length){case 0:return t.call(e);case 1:return t.call(e,n[0]);case 2:return t.call(e,n[0],n[1]);case 3:return t.call(e,n[0],n[1],n[2])}return t.apply(e,n)}(e,this,s)});t.exports=o}},e={};function n(i){var o=e[i];if(void 0!==o)return o.exports;var r=e[i]={exports:{}};return t[i](r,r.exports,n),r.exports}n.n=t=>{var e=t&&t.__esModule?()=>t.default:()=>t;return n.d(e,{a:e}),e},n.d=(t,e)=>{for(var i in e)n.o(e,i)&&!n.o(t,i)&&Object.defineProperty(t,i,{enumerable:!0,get:e[i]})},n.g=function(){if(\"object\"==typeof globalThis)return globalThis;try{return this||new Function(\"return this\")()}catch(t){if(\"object\"==typeof window)return window}}(),n.o=(t,e)=>Object.prototype.hasOwnProperty.call(t,e),(()=>{\"use strict\";const t=t=>{const e=new Set;do{for(const n of Reflect.ownKeys(t))e.add([t,n])}while((t=Reflect.getPrototypeOf(t))&&t!==Object.prototype);return e};function e(e,{include:n,exclude:i}={}){const o=t=>{const e=e=>\"string\"==typeof e?t===e:e.test(t);return n?n.some(e):!i||!i.some(e)};for(const[n,i]of t(e.constructor.prototype)){if(\"constructor\"===i||!o(i))continue;const t=Reflect.getOwnPropertyDescriptor(n,i);t&&\"function\"==typeof t.value&&(e[i]=e[i].bind(e))}return e}var i=n(777),o=n.n(i),r=n(296),a=n.n(r);class s{constructor(t,n){e(this),this.interfaceId=t,this.callbackMap={},this.data={},this.pendingData={},this.jcomm=new c(\"guidance_interface_target_\"+this.interfaceId,this.updateData,\"open\"),this.debouncedSendPendingData500=a()(this.sendPendingData,500),this.debouncedSendPendingData1000=a()(this.sendPendingData,1e3),n&&o()(n)}send(t,e){this.addPendingData(t,e),this.sendPendingData()}sendEvent(t){for(const e of Object.keys(t))this.addPendingData(e,t[e]);this.sendPendingData()}debouncedSendEvent500(t){for(const e of Object.keys(t))this.addPendingData(e,t[e]);this.debouncedSendPendingData500()}debouncedSend500(t,e){this.addPendingData(t,e),this.debouncedSendPendingData500()}debouncedSend1000(t,e){this.addPendingData(t,e),this.debouncedSendPendingData1000()}addPendingData(t,e){Array.isArray(t)||(t=[t]);for(const n in t)this.pendingData[t[n]]=e}updateData(t){t=JSON.parse(t.data);for(const e in t)this.data[e]=t[e];for(const e in t)e in this.callbackMap&&this.callbackMap[e](this.data[e])}subscribe(t,e){this.callbackMap[t]=e,o()((e=>this.callbackMap[t](this.data[t])))}sendPendingData(){this.jcomm.send_data(this.pendingData),this.pendingData={}}}class c{constructor(t,e,n=\"open\"){this._fire_callback=this._fire_callback.bind(this),this._register=this._register.bind(this),this.jcomm=void 0,this.callback=e,void 0!==window.Jupyter?\"register\"===n?Jupyter.notebook.kernel.comm_manager.register_target(t,this._register):(this.jcomm=Jupyter.notebook.kernel.comm_manager.new_comm(t),this.jcomm.on_msg(this._fire_callback)):void 0!==window._mgr&&(\"register\"===n?window._mgr.widgetManager.proxyKernel.registerCommTarget(t,this._register):(this.jcomm=window._mgr.widgetManager.proxyKernel.createComm(t),this.jcomm.open({},\"\"),this.jcomm.onMsg=this._fire_callback))}send_data(t){void 0!==this.jcomm?this.jcomm.send(t):console.error(\"Jupyter comm module not yet loaded! So we can't send the message.\")}_register(t,e){this.jcomm=t,this.jcomm.on_msg(this._fire_callback)}_fire_callback(t){this.callback(t.content.data)}}class d{constructor(t,n){e(this),this.id=t,this.comm=new s(t),this.comm.subscribe(\"append\",this.appendData),this.comm.subscribe(\"replace\",this.replaceData),this.comm.subscribe(\"event\",this.eventOccurred),this.element=document.getElementById(\"guidance-content-\"+t),this.stop_button=document.getElementById(\"guidance-stop-button-\"+t),this.stop_button.onclick=()=>this.comm.send(\"event\",\"stop\")}appendData(t){t&&(this.stop_button.style.display=\"inline-block\",this.element.innerHTML+=t)}replaceData(t){t&&(this.stop_button.style.display=\"inline-block\",this.element.innerHTML=t)}eventOccurred(t){\"complete\"===t&&(this.stop_button.style.display=\"none\")}}window._guidanceDisplay=function(t,e){return new d(t,e)}})()})();; window._guidanceDisplay(\"faf24eca-4c94-4d9d-a98a-cf19a9e19fd7\");</script>"
      ]
     },
     "metadata": {},
     "output_type": "display_data"
    },
    {
     "name": "stdout",
     "output_type": "stream",
     "text": [
      "Done!\n"
     ]
    },
    {
     "data": {
      "text/plain": [
       "AgentStep(experience=ShortTermMemory(dataset=LabelStudioFileDataset(label_studio_file='/Users/nik/Downloads/project-218-at-2023-10-20-12-02-521de4a2.json', ground_truth_column='ground_truth'), predictions=       predictions                                              score\n",
       "407783  Subjective  {'Subjective': -0.20141328999999997, 'Objectiv...\n",
       "407784   Objective  {'Subjective': -0.75759894, 'Objective': -0.63...\n",
       "407785  Subjective  {'Subjective': -0.07428308999999997, 'Objectiv...\n",
       "407786  Subjective  {'Subjective': -0.16022399999999995, 'Objectiv...\n",
       "407787   Objective  {'Subjective': -0.8259393, 'Objective': -0.575...\n",
       "...            ...                                                ...\n",
       "407843  Subjective  {'Subjective': -0.005928572999999946, 'Objecti...\n",
       "407844  Subjective  {'Subjective': -0.05488217200000003, 'Objectiv...\n",
       "407845  Subjective  {'Subjective': -0.09441284999999998, 'Objectiv...\n",
       "407846   Objective  {'Subjective': -1.1368709, 'Objective': -0.386...\n",
       "407847  Subjective  {'Subjective': -0.13458653999999995, 'Objectiv...\n",
       "\n",
       "[65 rows x 2 columns], evaluations=        index                                               text     label  \\\n",
       "407783     93                             Buttons are too small.  Negative   \n",
       "407784     76  Because both ears are occupied, background is ...  Positive   \n",
       "407785     48         Any ring tone..Overall good phone to buy..  Positive   \n",
       "407786     79  Best of all is the rotating feature, very help...  Positive   \n",
       "407787     89  But it does get better reception and clarity t...  Positive   \n",
       "...       ...                                                ...       ...   \n",
       "407843     66                Basically the service was very bad.  Negative   \n",
       "407844     53  As many people complained, I found this headse...  Negative   \n",
       "407845     28  After receiving and using the product for just...  Negative   \n",
       "407846     86  Bluetooth range is good - a few days ago I lef...  Positive   \n",
       "407847     95  Buyer Beware, you could flush money right down...  Negative   \n",
       "\n",
       "       ground_truth predictions  \\\n",
       "407783    Objective  Subjective   \n",
       "407784    Objective   Objective   \n",
       "407785    Objective  Subjective   \n",
       "407786    Objective  Subjective   \n",
       "407787    Objective   Objective   \n",
       "...             ...         ...   \n",
       "407843   Subjective  Subjective   \n",
       "407844    Objective  Subjective   \n",
       "407845    Objective  Subjective   \n",
       "407846    Objective   Objective   \n",
       "407847   Subjective  Subjective   \n",
       "\n",
       "                                                    score  predictions_match  \n",
       "407783  {'Subjective': -0.20141328999999997, 'Objectiv...              False  \n",
       "407784  {'Subjective': -0.75759894, 'Objective': -0.63...               True  \n",
       "407785  {'Subjective': -0.07428308999999997, 'Objectiv...              False  \n",
       "407786  {'Subjective': -0.16022399999999995, 'Objectiv...              False  \n",
       "407787  {'Subjective': -0.8259393, 'Objective': -0.575...               True  \n",
       "...                                                   ...                ...  \n",
       "407843  {'Subjective': -0.005928572999999946, 'Objecti...               True  \n",
       "407844  {'Subjective': -0.05488217200000003, 'Objectiv...              False  \n",
       "407845  {'Subjective': -0.09441284999999998, 'Objectiv...              False  \n",
       "407846  {'Subjective': -1.1368709, 'Objective': -0.386...               True  \n",
       "407847  {'Subjective': -0.13458653999999995, 'Objectiv...               True  \n",
       "\n",
       "[65 rows x 7 columns], errors=                                                    input  prediction  \\\n",
       "407796  Text: Also the area where my unit broke).- I'm...  Subjective   \n",
       "407818                    Text: Beautiful styling though.  Subjective   \n",
       "407841  Text: 1. long lasting battery (you don't have ...  Subjective   \n",
       "\n",
       "       ground_truth                                             reason  \n",
       "407796    Objective  The error occurred because the model misinterp...  \n",
       "407818    Objective  The model made an error because it interpreted...  \n",
       "407841    Objective  The model made an error because the input text...  , accuracy=0.5230769230769231, initial_instructions='Label the input text with the following labels: {{labels}}', updated_instructions=\"Please categorize the given text as either 'Subjective' (expressing personal feelings, tastes, or opinions) or 'Objective' (based on facts, not influenced by personal feelings or bias).\\n\\nExamples:\\nInput: Text: Also the area where my unit broke).- I'm not too fond of the magnetic strap.\\nOutput: Objective\\n\\nInput: Text: Beautiful styling though.\\nOutput: Objective\\n\\nInput: Text: 1. long lasting battery (you don't have to recharge it as frequently as some of the flip phones)2.\\nOutput: Objective\"), is_last=True)"
      ]
     },
     "execution_count": 4,
     "metadata": {},
     "output_type": "execute_result"
    }
   ],
   "source": [
    "agent.learn(update_instructions=True)"
   ]
  },
  {
   "cell_type": "markdown",
   "id": "1e9e5c0f",
   "metadata": {},
   "source": [
    "# Advanced usage: connect Agent to a running Label Studio instance"
   ]
  },
  {
   "cell_type": "markdown",
   "id": "b7ec6353",
   "metadata": {},
   "source": [
    "Exporting data from Label Studio can be avoided in certain cases by connecting the Adala agent to a currently running Label Studio instance. \n",
    "\n",
    "This method also enables the creation of ground truth data while the agent is in its learning phase.\n",
    "\n",
    "Let's create a dataset that consumes [tasks from a specific project](https://labelstud.io/guide/setup_project) in Label Studio server provided by URL and API key."
   ]
  },
  {
   "cell_type": "code",
   "execution_count": 7,
   "id": "4db94670",
   "metadata": {},
   "outputs": [],
   "source": [
    "from adala.datasets import LabelStudioDataset\n",
    "\n",
    "live_dataset = LabelStudioDataset(\n",
    "    label_studio_url='http://localhost:8080',\n",
    "    label_studio_api_key='681842051079710a6b0ebce5ec56f746e3400c98',\n",
    "    label_studio_project_id=218\n",
    ")"
   ]
  },
  {
   "cell_type": "markdown",
   "id": "f960a298",
   "metadata": {},
   "source": [
    "The rest remains the same - simply replace agent's dataset with the newly created one, and agent will catch it up automatically"
   ]
  },
  {
   "cell_type": "code",
   "execution_count": 8,
   "id": "bbb937dd",
   "metadata": {},
   "outputs": [],
   "source": [
    "agent.dataset = live_dataset"
   ]
  },
  {
   "cell_type": "markdown",
   "id": "681968e3",
   "metadata": {},
   "source": [
    "Now agent can evoke predictions from the real dataset:"
   ]
  },
  {
   "cell_type": "code",
   "execution_count": 10,
   "id": "9d42e51f",
   "metadata": {
    "scrolled": false
   },
   "outputs": [
    {
     "name": "stderr",
     "output_type": "stream",
     "text": [
      "100%|█████████████████████████████████████████████| 20/20 [00:00<00:00, 48.91it/s]\n",
      "100%|█████████████████████████████████████████████| 20/20 [00:04<00:00,  4.22it/s]\n",
      "100%|█████████████████████████████████████████████| 20/20 [00:05<00:00,  3.61it/s]\n",
      "100%|███████████████████████████████████████████████| 5/5 [00:01<00:00,  3.93it/s]"
     ]
    },
    {
     "name": "stdout",
     "output_type": "stream",
     "text": [
      "       predictions                                              score\n",
      "407783  Subjective  {'Subjective': -0.009167442000000012, 'Objecti...\n",
      "407784   Objective  {'Subjective': -1.752799, 'Objective': -0.1902...\n",
      "407785  Subjective  {'Subjective': -0.021852259999999967, 'Objecti...\n",
      "407786   Objective  {'Subjective': -1.1797419000000002, 'Objective...\n",
      "407787   Objective  {'Subjective': -2.6367831, 'Objective': -0.074...\n",
      "...            ...                                                ...\n",
      "407843  Subjective  {'Subjective': -0.0026350935999999705, 'Object...\n",
      "407844  Subjective  {'Subjective': -0.16972701000000007, 'Objectiv...\n",
      "407845  Subjective  {'Subjective': -0.20141328999999997, 'Objectiv...\n",
      "407846   Objective  {'Subjective': -5.0067153, 'Objective': -0.006...\n",
      "407847  Subjective  {'Subjective': -0.01507002099999995, 'Objectiv...\n",
      "\n",
      "[65 rows x 2 columns]\n"
     ]
    },
    {
     "name": "stderr",
     "output_type": "stream",
     "text": [
      "\n"
     ]
    }
   ],
   "source": [
    "run_2 = agent.run()\n",
    "print(run_2.experience.predictions)"
   ]
  }
 ],
 "metadata": {
  "kernelspec": {
   "display_name": "Python 3 (ipykernel)",
   "language": "python",
   "name": "python3"
  },
  "language_info": {
   "codemirror_mode": {
    "name": "ipython",
    "version": 3
   },
   "file_extension": ".py",
   "mimetype": "text/x-python",
   "name": "python",
   "nbconvert_exporter": "python",
   "pygments_lexer": "ipython3",
   "version": "3.11.4"
  }
 },
 "nbformat": 4,
 "nbformat_minor": 5
}